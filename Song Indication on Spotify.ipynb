{
 "cells": [
  {
   "cell_type": "code",
   "execution_count": 1,
   "id": "bf6a66bd",
   "metadata": {},
   "outputs": [],
   "source": [
    "import pandas as pd\n",
    "from sklearn.neighbors import NearestNeighbors\n",
    "import warnings\n",
    "warnings.filterwarnings('ignore')\n",
    "warnings.warn('DelftStack')\n",
    "warnings.warn('Do not show this message')"
   ]
  },
  {
   "cell_type": "code",
   "execution_count": 2,
   "id": "bf46a719",
   "metadata": {},
   "outputs": [],
   "source": [
    "df = pd.read_csv('spotify.csv')"
   ]
  },
  {
   "cell_type": "code",
   "execution_count": 3,
   "id": "ae920ed0",
   "metadata": {},
   "outputs": [
    {
     "data": {
      "text/html": [
       "<div>\n",
       "<style scoped>\n",
       "    .dataframe tbody tr th:only-of-type {\n",
       "        vertical-align: middle;\n",
       "    }\n",
       "\n",
       "    .dataframe tbody tr th {\n",
       "        vertical-align: top;\n",
       "    }\n",
       "\n",
       "    .dataframe thead th {\n",
       "        text-align: right;\n",
       "    }\n",
       "</style>\n",
       "<table border=\"1\" class=\"dataframe\">\n",
       "  <thead>\n",
       "    <tr style=\"text-align: right;\">\n",
       "      <th></th>\n",
       "      <th>danceability</th>\n",
       "      <th>energy</th>\n",
       "      <th>key</th>\n",
       "      <th>loudness</th>\n",
       "      <th>mode</th>\n",
       "      <th>speechiness</th>\n",
       "      <th>acousticness</th>\n",
       "      <th>instrumentalness</th>\n",
       "      <th>liveness</th>\n",
       "      <th>valence</th>\n",
       "      <th>...</th>\n",
       "      <th>id</th>\n",
       "      <th>uri</th>\n",
       "      <th>track_href</th>\n",
       "      <th>analysis_url</th>\n",
       "      <th>duration_ms</th>\n",
       "      <th>time_signature</th>\n",
       "      <th>genre</th>\n",
       "      <th>song_name</th>\n",
       "      <th>Unnamed: 0</th>\n",
       "      <th>title</th>\n",
       "    </tr>\n",
       "  </thead>\n",
       "  <tbody>\n",
       "    <tr>\n",
       "      <th>0</th>\n",
       "      <td>0.831</td>\n",
       "      <td>0.814</td>\n",
       "      <td>2</td>\n",
       "      <td>-7.364</td>\n",
       "      <td>1</td>\n",
       "      <td>0.4200</td>\n",
       "      <td>0.0598</td>\n",
       "      <td>0.013400</td>\n",
       "      <td>0.0556</td>\n",
       "      <td>0.3890</td>\n",
       "      <td>...</td>\n",
       "      <td>2Vc6NJ9PW9gD9q343XFRKx</td>\n",
       "      <td>spotify:track:2Vc6NJ9PW9gD9q343XFRKx</td>\n",
       "      <td>https://api.spotify.com/v1/tracks/2Vc6NJ9PW9gD...</td>\n",
       "      <td>https://api.spotify.com/v1/audio-analysis/2Vc6...</td>\n",
       "      <td>124539</td>\n",
       "      <td>4</td>\n",
       "      <td>Dark Trap</td>\n",
       "      <td>Mercury: Retrograde</td>\n",
       "      <td>NaN</td>\n",
       "      <td>NaN</td>\n",
       "    </tr>\n",
       "    <tr>\n",
       "      <th>1</th>\n",
       "      <td>0.719</td>\n",
       "      <td>0.493</td>\n",
       "      <td>8</td>\n",
       "      <td>-7.230</td>\n",
       "      <td>1</td>\n",
       "      <td>0.0794</td>\n",
       "      <td>0.4010</td>\n",
       "      <td>0.000000</td>\n",
       "      <td>0.1180</td>\n",
       "      <td>0.1240</td>\n",
       "      <td>...</td>\n",
       "      <td>7pgJBLVz5VmnL7uGHmRj6p</td>\n",
       "      <td>spotify:track:7pgJBLVz5VmnL7uGHmRj6p</td>\n",
       "      <td>https://api.spotify.com/v1/tracks/7pgJBLVz5Vmn...</td>\n",
       "      <td>https://api.spotify.com/v1/audio-analysis/7pgJ...</td>\n",
       "      <td>224427</td>\n",
       "      <td>4</td>\n",
       "      <td>Dark Trap</td>\n",
       "      <td>Pathology</td>\n",
       "      <td>NaN</td>\n",
       "      <td>NaN</td>\n",
       "    </tr>\n",
       "    <tr>\n",
       "      <th>2</th>\n",
       "      <td>0.850</td>\n",
       "      <td>0.893</td>\n",
       "      <td>5</td>\n",
       "      <td>-4.783</td>\n",
       "      <td>1</td>\n",
       "      <td>0.0623</td>\n",
       "      <td>0.0138</td>\n",
       "      <td>0.000004</td>\n",
       "      <td>0.3720</td>\n",
       "      <td>0.0391</td>\n",
       "      <td>...</td>\n",
       "      <td>0vSWgAlfpye0WCGeNmuNhy</td>\n",
       "      <td>spotify:track:0vSWgAlfpye0WCGeNmuNhy</td>\n",
       "      <td>https://api.spotify.com/v1/tracks/0vSWgAlfpye0...</td>\n",
       "      <td>https://api.spotify.com/v1/audio-analysis/0vSW...</td>\n",
       "      <td>98821</td>\n",
       "      <td>4</td>\n",
       "      <td>Dark Trap</td>\n",
       "      <td>Symbiote</td>\n",
       "      <td>NaN</td>\n",
       "      <td>NaN</td>\n",
       "    </tr>\n",
       "    <tr>\n",
       "      <th>3</th>\n",
       "      <td>0.476</td>\n",
       "      <td>0.781</td>\n",
       "      <td>0</td>\n",
       "      <td>-4.710</td>\n",
       "      <td>1</td>\n",
       "      <td>0.1030</td>\n",
       "      <td>0.0237</td>\n",
       "      <td>0.000000</td>\n",
       "      <td>0.1140</td>\n",
       "      <td>0.1750</td>\n",
       "      <td>...</td>\n",
       "      <td>0VSXnJqQkwuH2ei1nOQ1nu</td>\n",
       "      <td>spotify:track:0VSXnJqQkwuH2ei1nOQ1nu</td>\n",
       "      <td>https://api.spotify.com/v1/tracks/0VSXnJqQkwuH...</td>\n",
       "      <td>https://api.spotify.com/v1/audio-analysis/0VSX...</td>\n",
       "      <td>123661</td>\n",
       "      <td>3</td>\n",
       "      <td>Dark Trap</td>\n",
       "      <td>ProductOfDrugs (Prod. The Virus and Antidote)</td>\n",
       "      <td>NaN</td>\n",
       "      <td>NaN</td>\n",
       "    </tr>\n",
       "    <tr>\n",
       "      <th>4</th>\n",
       "      <td>0.798</td>\n",
       "      <td>0.624</td>\n",
       "      <td>2</td>\n",
       "      <td>-7.668</td>\n",
       "      <td>1</td>\n",
       "      <td>0.2930</td>\n",
       "      <td>0.2170</td>\n",
       "      <td>0.000000</td>\n",
       "      <td>0.1660</td>\n",
       "      <td>0.5910</td>\n",
       "      <td>...</td>\n",
       "      <td>4jCeguq9rMTlbMmPHuO7S3</td>\n",
       "      <td>spotify:track:4jCeguq9rMTlbMmPHuO7S3</td>\n",
       "      <td>https://api.spotify.com/v1/tracks/4jCeguq9rMTl...</td>\n",
       "      <td>https://api.spotify.com/v1/audio-analysis/4jCe...</td>\n",
       "      <td>123298</td>\n",
       "      <td>4</td>\n",
       "      <td>Dark Trap</td>\n",
       "      <td>Venom</td>\n",
       "      <td>NaN</td>\n",
       "      <td>NaN</td>\n",
       "    </tr>\n",
       "  </tbody>\n",
       "</table>\n",
       "<p>5 rows × 22 columns</p>\n",
       "</div>"
      ],
      "text/plain": [
       "   danceability  energy  key  loudness  mode  speechiness  acousticness  \\\n",
       "0         0.831   0.814    2    -7.364     1       0.4200        0.0598   \n",
       "1         0.719   0.493    8    -7.230     1       0.0794        0.4010   \n",
       "2         0.850   0.893    5    -4.783     1       0.0623        0.0138   \n",
       "3         0.476   0.781    0    -4.710     1       0.1030        0.0237   \n",
       "4         0.798   0.624    2    -7.668     1       0.2930        0.2170   \n",
       "\n",
       "   instrumentalness  liveness  valence  ...                      id  \\\n",
       "0          0.013400    0.0556   0.3890  ...  2Vc6NJ9PW9gD9q343XFRKx   \n",
       "1          0.000000    0.1180   0.1240  ...  7pgJBLVz5VmnL7uGHmRj6p   \n",
       "2          0.000004    0.3720   0.0391  ...  0vSWgAlfpye0WCGeNmuNhy   \n",
       "3          0.000000    0.1140   0.1750  ...  0VSXnJqQkwuH2ei1nOQ1nu   \n",
       "4          0.000000    0.1660   0.5910  ...  4jCeguq9rMTlbMmPHuO7S3   \n",
       "\n",
       "                                    uri  \\\n",
       "0  spotify:track:2Vc6NJ9PW9gD9q343XFRKx   \n",
       "1  spotify:track:7pgJBLVz5VmnL7uGHmRj6p   \n",
       "2  spotify:track:0vSWgAlfpye0WCGeNmuNhy   \n",
       "3  spotify:track:0VSXnJqQkwuH2ei1nOQ1nu   \n",
       "4  spotify:track:4jCeguq9rMTlbMmPHuO7S3   \n",
       "\n",
       "                                          track_href  \\\n",
       "0  https://api.spotify.com/v1/tracks/2Vc6NJ9PW9gD...   \n",
       "1  https://api.spotify.com/v1/tracks/7pgJBLVz5Vmn...   \n",
       "2  https://api.spotify.com/v1/tracks/0vSWgAlfpye0...   \n",
       "3  https://api.spotify.com/v1/tracks/0VSXnJqQkwuH...   \n",
       "4  https://api.spotify.com/v1/tracks/4jCeguq9rMTl...   \n",
       "\n",
       "                                        analysis_url duration_ms  \\\n",
       "0  https://api.spotify.com/v1/audio-analysis/2Vc6...      124539   \n",
       "1  https://api.spotify.com/v1/audio-analysis/7pgJ...      224427   \n",
       "2  https://api.spotify.com/v1/audio-analysis/0vSW...       98821   \n",
       "3  https://api.spotify.com/v1/audio-analysis/0VSX...      123661   \n",
       "4  https://api.spotify.com/v1/audio-analysis/4jCe...      123298   \n",
       "\n",
       "  time_signature      genre                                      song_name  \\\n",
       "0              4  Dark Trap                            Mercury: Retrograde   \n",
       "1              4  Dark Trap                                      Pathology   \n",
       "2              4  Dark Trap                                       Symbiote   \n",
       "3              3  Dark Trap  ProductOfDrugs (Prod. The Virus and Antidote)   \n",
       "4              4  Dark Trap                                          Venom   \n",
       "\n",
       "  Unnamed: 0 title  \n",
       "0        NaN   NaN  \n",
       "1        NaN   NaN  \n",
       "2        NaN   NaN  \n",
       "3        NaN   NaN  \n",
       "4        NaN   NaN  \n",
       "\n",
       "[5 rows x 22 columns]"
      ]
     },
     "execution_count": 3,
     "metadata": {},
     "output_type": "execute_result"
    }
   ],
   "source": [
    "df.head()"
   ]
  },
  {
   "cell_type": "code",
   "execution_count": 4,
   "id": "6fd3ec28",
   "metadata": {},
   "outputs": [
    {
     "data": {
      "text/plain": [
       "array(['Dark Trap', 'Underground Rap', 'Trap Metal', 'Emo', 'Rap', 'RnB',\n",
       "       'Pop', 'Hiphop', 'techhouse', 'techno', 'trance', 'psytrance',\n",
       "       'trap', 'dnb', 'hardstyle'], dtype=object)"
      ]
     },
     "execution_count": 4,
     "metadata": {},
     "output_type": "execute_result"
    }
   ],
   "source": [
    "df.genre.unique()"
   ]
  },
  {
   "cell_type": "code",
   "execution_count": 5,
   "id": "6d7127aa",
   "metadata": {},
   "outputs": [],
   "source": [
    "X = df[['danceability', 'energy', 'loudness', 'speechiness', 'acousticness', 'instrumentalness', 'liveness']]\n",
    "y = df['song_name']"
   ]
  },
  {
   "cell_type": "code",
   "execution_count": 6,
   "id": "7229c899",
   "metadata": {},
   "outputs": [],
   "source": [
    "X.dropna(inplace=True)"
   ]
  },
  {
   "cell_type": "code",
   "execution_count": 7,
   "id": "36ea6e0a",
   "metadata": {},
   "outputs": [],
   "source": [
    "y.dropna(inplace=True)"
   ]
  },
  {
   "cell_type": "code",
   "execution_count": 8,
   "id": "be50a11f",
   "metadata": {},
   "outputs": [],
   "source": [
    "X = X.drop_duplicates()"
   ]
  },
  {
   "cell_type": "code",
   "execution_count": 9,
   "id": "920d7167",
   "metadata": {},
   "outputs": [],
   "source": [
    "y = y.drop_duplicates()"
   ]
  },
  {
   "cell_type": "code",
   "execution_count": 10,
   "id": "693716a8",
   "metadata": {},
   "outputs": [],
   "source": [
    "X = X[: 15439]"
   ]
  },
  {
   "cell_type": "code",
   "execution_count": 11,
   "id": "316a3139",
   "metadata": {},
   "outputs": [],
   "source": [
    "model = NearestNeighbors(algorithm='brute', leaf_size=30, metric='minkowski', \n",
    "                         metric_params=None, n_jobs=None, n_neighbors=5, p=2, radius=1.0).fit(X)\n",
    "distances, indices = model.kneighbors(X)"
   ]
  },
  {
   "cell_type": "code",
   "execution_count": 12,
   "id": "9a5ae8fe",
   "metadata": {
    "scrolled": true
   },
   "outputs": [],
   "source": [
    "distances, suggestions = model.kneighbors(X.iloc[5000, :].values.reshape(1, -1))"
   ]
  },
  {
   "cell_type": "code",
   "execution_count": 14,
   "id": "3339e1f3",
   "metadata": {},
   "outputs": [
    {
     "name": "stdout",
     "output_type": "stream",
     "text": [
      "5811                      Transportin'\n",
      "1161                 UPPERCUTFREESTYLE\n",
      "5335                               ACT\n",
      "9015                       Left, Right\n",
      "16592    Come and See Me (feat. Drake)\n",
      "Name: song_name, dtype: object\n"
     ]
    }
   ],
   "source": [
    "for i in range(len(suggestions)):\n",
    "    print(y.iloc[suggestions[i]])"
   ]
  },
  {
   "cell_type": "code",
   "execution_count": 16,
   "id": "a400f588",
   "metadata": {},
   "outputs": [],
   "source": [
    "df.to_csv('song_indication_on_spotify')"
   ]
  }
 ],
 "metadata": {
  "kernelspec": {
   "display_name": "Python 3 (ipykernel)",
   "language": "python",
   "name": "python3"
  },
  "language_info": {
   "codemirror_mode": {
    "name": "ipython",
    "version": 3
   },
   "file_extension": ".py",
   "mimetype": "text/x-python",
   "name": "python",
   "nbconvert_exporter": "python",
   "pygments_lexer": "ipython3",
   "version": "3.8.12"
  },
  "toc": {
   "base_numbering": 1,
   "nav_menu": {},
   "number_sections": true,
   "sideBar": true,
   "skip_h1_title": false,
   "title_cell": "Table of Contents",
   "title_sidebar": "Contents",
   "toc_cell": false,
   "toc_position": {},
   "toc_section_display": true,
   "toc_window_display": false
  }
 },
 "nbformat": 4,
 "nbformat_minor": 5
}
